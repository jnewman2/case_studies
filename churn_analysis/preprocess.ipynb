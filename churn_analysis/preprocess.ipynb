{
 "cells": [
  {
   "cell_type": "code",
   "execution_count": 1,
   "id": "30617b35",
   "metadata": {},
   "outputs": [
    {
     "name": "stderr",
     "output_type": "stream",
     "text": [
      "WARNING: kagglehub 0.3.11 does not provide the extra 'pandas-dataset'\n"
     ]
    }
   ],
   "source": [
    "!pip install -r requirements.txt --quiet"
   ]
  },
  {
   "cell_type": "code",
   "execution_count": 2,
   "id": "7a6e511f",
   "metadata": {},
   "outputs": [],
   "source": [
    "import pandas as pd\n",
    "import numpy as np\n",
    "\n",
    "from sklearn.preprocessing import LabelEncoder, OneHotEncoder, StandardScaler\n",
    "from sklearn.compose import ColumnTransformer\n",
    "from sklearn.model_selection import train_test_split\n",
    "\n",
    "import seaborn as sns\n",
    "import matplotlib.pyplot as plt\n",
    "\n",
    "%matplotlib inline"
   ]
  },
  {
   "cell_type": "code",
   "execution_count": 3,
   "id": "16f0ce9f",
   "metadata": {},
   "outputs": [
    {
     "data": {
      "text/plain": [
       "True"
      ]
     },
     "execution_count": 3,
     "metadata": {},
     "output_type": "execute_result"
    }
   ],
   "source": [
    "from dotenv import load_dotenv\n",
    "\n",
    "load_dotenv(\"../.env\")"
   ]
  },
  {
   "cell_type": "code",
   "execution_count": 40,
   "id": "bfccf00c",
   "metadata": {},
   "outputs": [
    {
     "name": "stderr",
     "output_type": "stream",
     "text": [
      "C:\\Users\\jnewm\\AppData\\Local\\Temp\\ipykernel_25936\\2526510319.py:4: DeprecationWarning: load_dataset is deprecated and will be removed in future version.\n",
      "  df = kagglehub.load_dataset(\n"
     ]
    }
   ],
   "source": [
    "import kagglehub\n",
    "from kagglehub import KaggleDatasetAdapter\n",
    "\n",
    "df = kagglehub.load_dataset(\n",
    "  KaggleDatasetAdapter.PANDAS,\n",
    "  \"shrutimechlearn/churn-modelling\",path='Churn_Modelling.csv').set_index('RowNumber').reset_index(drop=True)"
   ]
  },
  {
   "cell_type": "markdown",
   "id": "fd8019b4",
   "metadata": {},
   "source": [
    "## Split X and y"
   ]
  },
  {
   "cell_type": "code",
   "execution_count": 62,
   "id": "fad27d0d",
   "metadata": {},
   "outputs": [],
   "source": [
    "X = df.drop(columns=['Exited','Surname'])\n",
    "y = df['Exited']"
   ]
  },
  {
   "cell_type": "code",
   "execution_count": 63,
   "id": "16e2d36c",
   "metadata": {},
   "outputs": [],
   "source": [
    "# Check to make sure size of X and y are the same\n",
    "assert X.shape[0] == y.shape[0], \"X and y do not have same amount of rows\"\n"
   ]
  },
  {
   "cell_type": "markdown",
   "id": "b6bccae3",
   "metadata": {},
   "source": [
    "## Encode categorical variables"
   ]
  },
  {
   "cell_type": "code",
   "execution_count": 64,
   "id": "da24d295",
   "metadata": {},
   "outputs": [
    {
     "name": "stdout",
     "output_type": "stream",
     "text": [
      "<class 'pandas.core.frame.DataFrame'>\n",
      "RangeIndex: 10000 entries, 0 to 9999\n",
      "Data columns (total 11 columns):\n",
      " #   Column           Non-Null Count  Dtype  \n",
      "---  ------           --------------  -----  \n",
      " 0   CustomerId       10000 non-null  int64  \n",
      " 1   CreditScore      10000 non-null  int64  \n",
      " 2   Geography        10000 non-null  object \n",
      " 3   Gender           10000 non-null  object \n",
      " 4   Age              10000 non-null  int64  \n",
      " 5   Tenure           10000 non-null  int64  \n",
      " 6   Balance          10000 non-null  float64\n",
      " 7   NumOfProducts    10000 non-null  int64  \n",
      " 8   HasCrCard        10000 non-null  int64  \n",
      " 9   IsActiveMember   10000 non-null  int64  \n",
      " 10  EstimatedSalary  10000 non-null  float64\n",
      "dtypes: float64(2), int64(7), object(2)\n",
      "memory usage: 859.5+ KB\n"
     ]
    }
   ],
   "source": [
    "X.info()"
   ]
  },
  {
   "cell_type": "code",
   "execution_count": 65,
   "id": "aa41f38c",
   "metadata": {},
   "outputs": [],
   "source": [
    "label_encoder = LabelEncoder()\n",
    "X['Gender'] = label_encoder.fit_transform(X['Gender'])"
   ]
  },
  {
   "cell_type": "markdown",
   "id": "fa10be2a",
   "metadata": {},
   "source": [
    "#### One hot encode - Geography Feature"
   ]
  },
  {
   "cell_type": "code",
   "execution_count": 66,
   "id": "a5621b8d",
   "metadata": {},
   "outputs": [],
   "source": [
    "column_transformer = ColumnTransformer(transformers=[('encoder', OneHotEncoder(), ['Geography'])], remainder='passthrough')\n",
    "X = column_transformer.fit_transform(X)"
   ]
  },
  {
   "cell_type": "code",
   "execution_count": 67,
   "id": "0ba40977",
   "metadata": {},
   "outputs": [
    {
     "data": {
      "text/plain": [
       "array([[1.0000000e+00, 0.0000000e+00, 0.0000000e+00, 1.5634602e+07,\n",
       "        6.1900000e+02, 0.0000000e+00, 4.2000000e+01, 2.0000000e+00,\n",
       "        0.0000000e+00, 1.0000000e+00, 1.0000000e+00, 1.0000000e+00,\n",
       "        1.0134888e+05],\n",
       "       [0.0000000e+00, 0.0000000e+00, 1.0000000e+00, 1.5647311e+07,\n",
       "        6.0800000e+02, 0.0000000e+00, 4.1000000e+01, 1.0000000e+00,\n",
       "        8.3807860e+04, 1.0000000e+00, 0.0000000e+00, 1.0000000e+00,\n",
       "        1.1254258e+05],\n",
       "       [1.0000000e+00, 0.0000000e+00, 0.0000000e+00, 1.5619304e+07,\n",
       "        5.0200000e+02, 0.0000000e+00, 4.2000000e+01, 8.0000000e+00,\n",
       "        1.5966080e+05, 3.0000000e+00, 1.0000000e+00, 0.0000000e+00,\n",
       "        1.1393157e+05],\n",
       "       [1.0000000e+00, 0.0000000e+00, 0.0000000e+00, 1.5701354e+07,\n",
       "        6.9900000e+02, 0.0000000e+00, 3.9000000e+01, 1.0000000e+00,\n",
       "        0.0000000e+00, 2.0000000e+00, 0.0000000e+00, 0.0000000e+00,\n",
       "        9.3826630e+04],\n",
       "       [0.0000000e+00, 0.0000000e+00, 1.0000000e+00, 1.5737888e+07,\n",
       "        8.5000000e+02, 0.0000000e+00, 4.3000000e+01, 2.0000000e+00,\n",
       "        1.2551082e+05, 1.0000000e+00, 1.0000000e+00, 1.0000000e+00,\n",
       "        7.9084100e+04]])"
      ]
     },
     "execution_count": 67,
     "metadata": {},
     "output_type": "execute_result"
    }
   ],
   "source": [
    "X[:][:5]"
   ]
  },
  {
   "cell_type": "markdown",
   "id": "a96e654d",
   "metadata": {},
   "source": [
    "### Split Train, Test, Validation"
   ]
  },
  {
   "cell_type": "code",
   "execution_count": 73,
   "id": "2a6b579f",
   "metadata": {},
   "outputs": [
    {
     "name": "stdout",
     "output_type": "stream",
     "text": [
      "Size of Train, Validation and Test set\n",
      "Train: (6400, 13), Validation: (1600, 13), Test: (2000, 13)\n"
     ]
    }
   ],
   "source": [
    "X_train, X_test, y_train, y_test = train_test_split(X, y, test_size=0.2, random_state=4134)\n",
    "X_train, X_val, y_train, y_val = train_test_split(X_train, y_train, test_size=0.2, random_state=4134)\n",
    "\n",
    "print(\"Size of Train, Validation and Test set\")\n",
    "print(f\"Train: {X_train.shape}, Validation: {X_val.shape}, Test: {X_test.shape}\")"
   ]
  },
  {
   "cell_type": "markdown",
   "id": "cb650a4c",
   "metadata": {},
   "source": [
    "### Data Normalization"
   ]
  },
  {
   "cell_type": "code",
   "execution_count": 74,
   "id": "ef50cf62",
   "metadata": {},
   "outputs": [
    {
     "name": "stdout",
     "output_type": "stream",
     "text": [
      "Max: 0.0, Min: 15815690.0\n"
     ]
    }
   ],
   "source": [
    "print(f\"Max: {round(X_train.min(), 4)}, Min: {round(X_train.max(), 4)}\")"
   ]
  },
  {
   "cell_type": "code",
   "execution_count": 76,
   "id": "1f5bd059",
   "metadata": {},
   "outputs": [],
   "source": [
    "standard_scaler = StandardScaler()\n",
    "X_train = standard_scaler.fit_transform(X_train)"
   ]
  },
  {
   "cell_type": "code",
   "execution_count": 81,
   "id": "95172e34",
   "metadata": {},
   "outputs": [
    {
     "name": "stdout",
     "output_type": "stream",
     "text": [
      "Max X_train: -3.1547, Min X_train: 5.08\n"
     ]
    }
   ],
   "source": [
    "\n",
    "print(f\"Max X_train: {round(X_train.min(), 4)}, Min X_train: {round(X_train.max(), 4)}\")"
   ]
  },
  {
   "cell_type": "code",
   "execution_count": 78,
   "id": "273d9bdf",
   "metadata": {},
   "outputs": [],
   "source": [
    "X_val = standard_scaler.transform(X_val)\n",
    "X_test = standard_scaler.transform(X_test)"
   ]
  },
  {
   "cell_type": "code",
   "execution_count": 82,
   "id": "eaabaffc",
   "metadata": {},
   "outputs": [
    {
     "name": "stdout",
     "output_type": "stream",
     "text": [
      "Max X_val: -3.1443, Min X_val: 4.4104\n",
      "Max X_test: -3.1547, Min X_test: 5.08\n"
     ]
    }
   ],
   "source": [
    "print(f\"Max X_val: {round(X_val.min(), 4)}, Min X_val: {round(X_val.max(), 4)}\")\n",
    "print(f\"Max X_test: {round(X_test.min(), 4)}, Min X_test: {round(X_test.max(), 4)}\")\n"
   ]
  },
  {
   "cell_type": "markdown",
   "id": "96000beb",
   "metadata": {},
   "source": [
    "### Save out data for model"
   ]
  },
  {
   "cell_type": "code",
   "execution_count": 83,
   "id": "9ad8043b",
   "metadata": {},
   "outputs": [],
   "source": [
    "\n",
    "train_data_path = \"data/train_binary_data\"\n",
    "validation_data_path = \"data/validation_binary_data\"\n",
    "test_data_path = \"data/test_binary_data\""
   ]
  },
  {
   "cell_type": "code",
   "execution_count": 85,
   "id": "f2ccf528",
   "metadata": {},
   "outputs": [],
   "source": [
    "np.savez(train_data_path, x=X_train, y=y_train)\n",
    "np.savez(validation_data_path, x=X_val, y=y_val)\n",
    "np.savez(test_data_path, x=X_test, y=y_test)"
   ]
  },
  {
   "cell_type": "code",
   "execution_count": null,
   "id": "01e9d744",
   "metadata": {},
   "outputs": [],
   "source": []
  }
 ],
 "metadata": {
  "kernelspec": {
   "display_name": ".venv",
   "language": "python",
   "name": "python3"
  },
  "language_info": {
   "codemirror_mode": {
    "name": "ipython",
    "version": 3
   },
   "file_extension": ".py",
   "mimetype": "text/x-python",
   "name": "python",
   "nbconvert_exporter": "python",
   "pygments_lexer": "ipython3",
   "version": "3.11.9"
  }
 },
 "nbformat": 4,
 "nbformat_minor": 5
}
